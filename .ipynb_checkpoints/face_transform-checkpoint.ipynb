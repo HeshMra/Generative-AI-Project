{
 "cells": [
  {
   "cell_type": "code",
   "execution_count": 17,
   "id": "2c870b2a-0eed-42da-8f18-178b25f33d13",
   "metadata": {},
   "outputs": [
    {
     "name": "stdout",
     "output_type": "stream",
     "text": [
      "False\n"
     ]
    }
   ],
   "source": [
    "import torch\n",
    "from PIL import Image\n",
    "from diffusers import StableDiffusionPipeline\n",
    "import os\n",
    "print(torch.cuda.is_available())  # Should print True if GPU is detected"
   ]
  },
  {
   "cell_type": "code",
   "execution_count": 6,
   "id": "f6c671db-f7cf-4477-892f-12f9851f829d",
   "metadata": {},
   "outputs": [
    {
     "data": {
      "application/vnd.jupyter.widget-view+json": {
       "model_id": "fafff9cc4f3048eb91ead1e4c5d2a19d",
       "version_major": 2,
       "version_minor": 0
      },
      "text/plain": [
       "Fetching 15 files:   0%|          | 0/15 [00:00<?, ?it/s]"
      ]
     },
     "metadata": {},
     "output_type": "display_data"
    },
    {
     "data": {
      "application/vnd.jupyter.widget-view+json": {
       "model_id": "a6c15e2df4ba4338980b18cc0828d48f",
       "version_major": 2,
       "version_minor": 0
      },
      "text/plain": [
       "diffusion_pytorch_model.safetensors:  90%|######### | 3.10G/3.44G [00:00<?, ?B/s]"
      ]
     },
     "metadata": {},
     "output_type": "display_data"
    },
    {
     "data": {
      "application/vnd.jupyter.widget-view+json": {
       "model_id": "f6fd2f6c9f6f42e29997c400e34e9ec2",
       "version_major": 2,
       "version_minor": 0
      },
      "text/plain": [
       "Loading pipeline components...:   0%|          | 0/7 [00:00<?, ?it/s]"
      ]
     },
     "metadata": {},
     "output_type": "display_data"
    },
    {
     "name": "stdout",
     "output_type": "stream",
     "text": [
      "✅ Model loaded successfully!\n"
     ]
    }
   ],
   "source": [
    "# Load Stable Diffusion model\n",
    "MODEL_NAME = \"runwayml/stable-diffusion-v1-5\"\n",
    "pipe = StableDiffusionPipeline.from_pretrained(MODEL_NAME)\n",
    "pipe.to(\"cuda\" if torch.cuda.is_available() else \"cpu\")\n",
    "\n",
    "print(\"✅ Model loaded successfully!\")"
   ]
  },
  {
   "cell_type": "code",
   "execution_count": 23,
   "id": "b8f93e92-2527-4d03-8f17-b1ec45858c3e",
   "metadata": {},
   "outputs": [],
   "source": [
    "# Function to transform an image\n",
    "def transform_image(input_image_path, output_image_path, prompt):\n",
    "    # ✅ Use absolute paths to avoid issues\n",
    "    input_image_path = os.path.abspath(os.path.join(\"ai_face_transform\", input_image_path))\n",
    "    output_image_path = os.path.abspath(os.path.join(\"ai_face_transform\", output_image_path))\n",
    "\n",
    "    # ✅ Check if input image exists\n",
    "    if not os.path.exists(input_image_path):\n",
    "        raise FileNotFoundError(f\"🚨 Error: File '{input_image_path}' not found!\")\n",
    "\n",
    "    # Open and resize the image\n",
    "    image = Image.open(input_image_path).resize((512, 512))\n",
    "\n",
    "    # Generate transformation\n",
    "    output_image = pipe(prompt, image=image, num_inference_steps=20).images[0]\n",
    "\n",
    "    # ✅ Ensure output folder exists before saving\n",
    "    output_folder = os.path.dirname(output_image_path)\n",
    "    if not os.path.exists(output_folder):\n",
    "        os.makedirs(output_folder)\n",
    "\n",
    "    # Save the transformed image\n",
    "    output_image.save(output_image_path)\n",
    "    print(f\"✅ Transformed image saved at: {output_image_path}\")"
   ]
  },
  {
   "cell_type": "code",
   "execution_count": 24,
   "id": "37920846-7e14-48a1-ae2b-23f506c37347",
   "metadata": {},
   "outputs": [
    {
     "ename": "FileNotFoundError",
     "evalue": "🚨 Error: File 'D:\\My ML Projects\\ai_face_transform\\ai_face_transform\\input_images\\europian.jpg' not found!",
     "output_type": "error",
     "traceback": [
      "\u001b[1;31m---------------------------------------------------------------------------\u001b[0m",
      "\u001b[1;31mFileNotFoundError\u001b[0m                         Traceback (most recent call last)",
      "Cell \u001b[1;32mIn[24], line 3\u001b[0m\n\u001b[0;32m      1\u001b[0m \u001b[38;5;66;03m# Example: Modify the uploaded face to look Sri Lankan\u001b[39;00m\n\u001b[0;32m      2\u001b[0m prompt \u001b[38;5;241m=\u001b[39m \u001b[38;5;124m\"\u001b[39m\u001b[38;5;124mMake this person look Sri Lankan with darker skin tone, Sri Lankan facial features\u001b[39m\u001b[38;5;124m\"\u001b[39m\n\u001b[1;32m----> 3\u001b[0m \u001b[43mtransform_image\u001b[49m\u001b[43m(\u001b[49m\u001b[38;5;124;43m\"\u001b[39;49m\u001b[38;5;124;43minput_images/europian.jpg\u001b[39;49m\u001b[38;5;124;43m\"\u001b[39;49m\u001b[43m,\u001b[49m\u001b[43m \u001b[49m\u001b[38;5;124;43m\"\u001b[39;49m\u001b[38;5;124;43moutput_folder/transformed.jpg\u001b[39;49m\u001b[38;5;124;43m\"\u001b[39;49m\u001b[43m,\u001b[49m\u001b[43m \u001b[49m\u001b[43mprompt\u001b[49m\u001b[43m)\u001b[49m\n",
      "Cell \u001b[1;32mIn[23], line 9\u001b[0m, in \u001b[0;36mtransform_image\u001b[1;34m(input_image_path, output_image_path, prompt)\u001b[0m\n\u001b[0;32m      7\u001b[0m \u001b[38;5;66;03m# ✅ Check if input image exists\u001b[39;00m\n\u001b[0;32m      8\u001b[0m \u001b[38;5;28;01mif\u001b[39;00m \u001b[38;5;129;01mnot\u001b[39;00m os\u001b[38;5;241m.\u001b[39mpath\u001b[38;5;241m.\u001b[39mexists(input_image_path):\n\u001b[1;32m----> 9\u001b[0m     \u001b[38;5;28;01mraise\u001b[39;00m \u001b[38;5;167;01mFileNotFoundError\u001b[39;00m(\u001b[38;5;124mf\u001b[39m\u001b[38;5;124m\"\u001b[39m\u001b[38;5;124m🚨 Error: File \u001b[39m\u001b[38;5;124m'\u001b[39m\u001b[38;5;132;01m{\u001b[39;00minput_image_path\u001b[38;5;132;01m}\u001b[39;00m\u001b[38;5;124m'\u001b[39m\u001b[38;5;124m not found!\u001b[39m\u001b[38;5;124m\"\u001b[39m)\n\u001b[0;32m     11\u001b[0m \u001b[38;5;66;03m# Open and resize the image\u001b[39;00m\n\u001b[0;32m     12\u001b[0m image \u001b[38;5;241m=\u001b[39m Image\u001b[38;5;241m.\u001b[39mopen(input_image_path)\u001b[38;5;241m.\u001b[39mresize((\u001b[38;5;241m512\u001b[39m, \u001b[38;5;241m512\u001b[39m))\n",
      "\u001b[1;31mFileNotFoundError\u001b[0m: 🚨 Error: File 'D:\\My ML Projects\\ai_face_transform\\ai_face_transform\\input_images\\europian.jpg' not found!"
     ]
    }
   ],
   "source": [
    "# Example: Modify the uploaded face to look Sri Lankan\n",
    "prompt = \"Make this person look Sri Lankan with darker skin tone, Sri Lankan facial features\"\n",
    "transform_image(\"input_images/europian.jpg\", \"output_folder/transformed.jpg\", prompt)"
   ]
  },
  {
   "cell_type": "code",
   "execution_count": null,
   "id": "566f109c-1b8f-4db2-846d-275f790b4ef0",
   "metadata": {},
   "outputs": [],
   "source": []
  }
 ],
 "metadata": {
  "kernelspec": {
   "display_name": "Python 3 (ipykernel)",
   "language": "python",
   "name": "python3"
  },
  "language_info": {
   "codemirror_mode": {
    "name": "ipython",
    "version": 3
   },
   "file_extension": ".py",
   "mimetype": "text/x-python",
   "name": "python",
   "nbconvert_exporter": "python",
   "pygments_lexer": "ipython3",
   "version": "3.11.4"
  }
 },
 "nbformat": 4,
 "nbformat_minor": 5
}
