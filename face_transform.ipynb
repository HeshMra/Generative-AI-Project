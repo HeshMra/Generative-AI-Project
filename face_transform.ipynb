{
 "cells": [
  {
   "cell_type": "code",
   "execution_count": 29,
   "id": "2c870b2a-0eed-42da-8f18-178b25f33d13",
   "metadata": {},
   "outputs": [
    {
     "name": "stdout",
     "output_type": "stream",
     "text": [
      "False\n"
     ]
    }
   ],
   "source": [
    "import torch\n",
    "from PIL import Image\n",
    "from diffusers import StableDiffusionImg2ImgPipeline\n",
    "import os\n",
    "print(torch.cuda.is_available())  # Should print True if GPU is detected"
   ]
  },
  {
   "cell_type": "code",
   "execution_count": 30,
   "id": "f6c671db-f7cf-4477-892f-12f9851f829d",
   "metadata": {},
   "outputs": [
    {
     "data": {
      "application/vnd.jupyter.widget-view+json": {
       "model_id": "ae03d102c1ef41919f29d4f3535e6212",
       "version_major": 2,
       "version_minor": 0
      },
      "text/plain": [
       "Loading pipeline components...:   0%|          | 0/7 [00:00<?, ?it/s]"
      ]
     },
     "metadata": {},
     "output_type": "display_data"
    }
   ],
   "source": [
    "# ✅ Load the pipeline with GPU acceleration if available\n",
    "device = \"cuda\" if torch.cuda.is_available() else \"cpu\"\n",
    "pipe = StableDiffusionImg2ImgPipeline.from_pretrained(\"runwayml/stable-diffusion-v1-5\").to(device)"
   ]
  },
  {
   "cell_type": "code",
   "execution_count": 31,
   "id": "b8f93e92-2527-4d03-8f17-b1ec45858c3e",
   "metadata": {},
   "outputs": [],
   "source": [
    "# ✅ Function to transform an image\n",
    "def transform_image(input_image_path, output_image_path, prompt):\n",
    "    if not os.path.exists(input_image_path):\n",
    "        raise FileNotFoundError(f\"🚨 Error: File '{input_image_path}' not found!\")\n",
    "\n",
    "    # Open the image\n",
    "    input_image = Image.open(input_image_path).convert(\"RGB\")\n",
    "\n",
    "    # ✅ Use image-to-image processing with a LOW strength (to avoid drastic changes)\n",
    "    output_image = pipe(\n",
    "        prompt=prompt,\n",
    "        image=input_image,\n",
    "        strength=0.3,  # ✅ Lower strength keeps more original details\n",
    "        num_inference_steps=30,\n",
    "        negative_prompt=\"mutation, distorted face, wrong identity, extra features\"\n",
    "    ).images[0]\n",
    "\n",
    "    # ✅ Save the transformed image\n",
    "    output_image.save(output_image_path)\n",
    "    print(f\"✅ Transformed image saved at: {output_image_path}\")\n",
    "\n",
    "    # ✅ Display the output in Jupyter Notebook\n",
    "    from IPython.display import display\n",
    "    display(output_image)"
   ]
  },
  {
   "cell_type": "code",
   "execution_count": null,
   "id": "37920846-7e14-48a1-ae2b-23f506c37347",
   "metadata": {},
   "outputs": [
    {
     "data": {
      "application/vnd.jupyter.widget-view+json": {
       "model_id": "7347250a74f34031ab9f12184f4e3826",
       "version_major": 2,
       "version_minor": 0
      },
      "text/plain": [
       "  0%|          | 0/9 [00:00<?, ?it/s]"
      ]
     },
     "metadata": {},
     "output_type": "display_data"
    }
   ],
   "source": [
    "\n",
    "# Example: Modify the uploaded face to look Sri Lankan\n",
    "prompt = \"Sri Lankan skin tone. Keep the original facial features, hair, and eyes unchanged\"\n",
    "transform_image(\"input_images/person_2.jpg\", \"output_folder/transformed.jpg\", prompt)\n"
   ]
  },
  {
   "cell_type": "code",
   "execution_count": null,
   "id": "566f109c-1b8f-4db2-846d-275f790b4ef0",
   "metadata": {},
   "outputs": [],
   "source": []
  }
 ],
 "metadata": {
  "kernelspec": {
   "display_name": "Python 3 (ipykernel)",
   "language": "python",
   "name": "python3"
  },
  "language_info": {
   "codemirror_mode": {
    "name": "ipython",
    "version": 3
   },
   "file_extension": ".py",
   "mimetype": "text/x-python",
   "name": "python",
   "nbconvert_exporter": "python",
   "pygments_lexer": "ipython3",
   "version": "3.11.4"
  }
 },
 "nbformat": 4,
 "nbformat_minor": 5
}
