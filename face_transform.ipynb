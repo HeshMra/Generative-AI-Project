{
 "cells": [
  {
   "cell_type": "code",
   "execution_count": 18,
   "id": "2c870b2a-0eed-42da-8f18-178b25f33d13",
   "metadata": {},
   "outputs": [
    {
     "name": "stdout",
     "output_type": "stream",
     "text": [
      "False\n"
     ]
    }
   ],
   "source": [
    "import torch\n",
    "from PIL import Image\n",
    "from diffusers import StableDiffusionPipeline\n",
    "import os\n",
    "print(torch.cuda.is_available())  # Should print True if GPU is detected"
   ]
  },
  {
   "cell_type": "code",
   "execution_count": 19,
   "id": "f6c671db-f7cf-4477-892f-12f9851f829d",
   "metadata": {},
   "outputs": [
    {
     "data": {
      "application/vnd.jupyter.widget-view+json": {
       "model_id": "e02e6bf3652e44a1833741f61b1c2a5b",
       "version_major": 2,
       "version_minor": 0
      },
      "text/plain": [
       "Loading pipeline components...:   0%|          | 0/7 [00:00<?, ?it/s]"
      ]
     },
     "metadata": {},
     "output_type": "display_data"
    },
    {
     "name": "stdout",
     "output_type": "stream",
     "text": [
      "✅ Model loaded successfully!\n"
     ]
    }
   ],
   "source": [
    "# Load Stable Diffusion model\n",
    "MODEL_NAME = \"runwayml/stable-diffusion-v1-5\"\n",
    "pipe = StableDiffusionPipeline.from_pretrained(MODEL_NAME)\n",
    "pipe.to(\"cuda\" if torch.cuda.is_available() else \"cpu\")\n",
    "\n",
    "print(\"✅ Model loaded successfully!\")"
   ]
  },
  {
   "cell_type": "code",
   "execution_count": 22,
   "id": "b8f93e92-2527-4d03-8f17-b1ec45858c3e",
   "metadata": {},
   "outputs": [],
   "source": [
    "# Function to transform an image\n",
    "def transform_image(input_image_path, output_image_path, prompt):\n",
    " \n",
    "\n",
    "    # ✅ Check if input image exists\n",
    "    if not os.path.exists(input_image_path):\n",
    "        raise FileNotFoundError(f\"🚨 Error: File '{input_image_path}' not found!\")\n",
    "\n",
    "    # Open and resize the image\n",
    "    image = Image.open(input_image_path)\n",
    "\n",
    "    # Generate transformation\n",
    "    output_image = pipe(prompt, image=image, num_inference_steps=20).images[0]\n",
    "\n",
    "    # ✅ Ensure output folder exists before saving\n",
    "    output_folder = os.path.dirname(output_image_path)\n",
    "    if not os.path.exists(output_folder):\n",
    "        os.makedirs(output_folder)\n",
    "\n",
    " # ✅ Display the image in the Jupyter Notebook cell\n",
    "    display(output_image) \n",
    "    \n",
    "    # Save the transformed image\n",
    "    output_image.save(output_image_path)\n",
    "    print(f\"✅ Transformed image saved at: {output_image_path}\")"
   ]
  },
  {
   "cell_type": "code",
   "execution_count": null,
   "id": "37920846-7e14-48a1-ae2b-23f506c37347",
   "metadata": {},
   "outputs": [
    {
     "data": {
      "application/vnd.jupyter.widget-view+json": {
       "model_id": "44b77a9dd1674f179676752f1f1565b6",
       "version_major": 2,
       "version_minor": 0
      },
      "text/plain": [
       "  0%|          | 0/20 [00:00<?, ?it/s]"
      ]
     },
     "metadata": {},
     "output_type": "display_data"
    }
   ],
   "source": [
    "\n",
    "# Example: Modify the uploaded face to look Sri Lankan\n",
    "prompt = \"Make this person look Sri Lankan with beautiful Sri Lankan skin tone and dont change the  facial features\"\n",
    "transform_image(\"input_images/person_2.jpg\", \"output_folder/transformed.jpg\", prompt)\n"
   ]
  },
  {
   "cell_type": "code",
   "execution_count": null,
   "id": "566f109c-1b8f-4db2-846d-275f790b4ef0",
   "metadata": {},
   "outputs": [],
   "source": []
  }
 ],
 "metadata": {
  "kernelspec": {
   "display_name": "Python 3 (ipykernel)",
   "language": "python",
   "name": "python3"
  },
  "language_info": {
   "codemirror_mode": {
    "name": "ipython",
    "version": 3
   },
   "file_extension": ".py",
   "mimetype": "text/x-python",
   "name": "python",
   "nbconvert_exporter": "python",
   "pygments_lexer": "ipython3",
   "version": "3.11.4"
  }
 },
 "nbformat": 4,
 "nbformat_minor": 5
}
